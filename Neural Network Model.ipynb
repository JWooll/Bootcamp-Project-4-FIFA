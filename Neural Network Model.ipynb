{
 "cells": [
  {
   "cell_type": "code",
   "execution_count": 1,
   "metadata": {
    "executionInfo": {
     "elapsed": 13041,
     "status": "ok",
     "timestamp": 1676475603053,
     "user": {
      "displayName": "Sean Morey",
      "userId": "09649124933964159109"
     },
     "user_tz": 360
    },
    "id": "1f4FViTSumj7"
   },
   "outputs": [],
   "source": [
    "# Import our dependencies\n",
    "import pandas as pd\n",
    "import matplotlib.pyplot as plt\n",
    "import sklearn as skl\n",
    "import tensorflow as tf\n",
    "from sklearn.preprocessing import StandardScaler\n",
    "from sklearn.model_selection import train_test_split\n",
    "from tensorflow.keras.optimizers import Adam\n",
    "import numpy as np"
   ]
  },
  {
   "cell_type": "code",
   "execution_count": 2,
   "metadata": {},
   "outputs": [
    {
     "data": {
      "text/plain": [
       "Index(['ID', 'Name', 'Age', 'Nationality', 'Club', 'Wage', 'PreferredFoot',\n",
       "       'InternationalReputation', 'WeakFoot', 'SkillMoves', 'WorkRate',\n",
       "       'BodyType', 'Height', 'Weight', 'Crossing', 'Finishing',\n",
       "       'HeadingAccuracy', 'ShortPassing', 'Volleys', 'Dribbling', 'Curve',\n",
       "       'FKAccuracy', 'LongPassing', 'BallControl', 'Acceleration',\n",
       "       'SprintSpeed', 'Agility', 'Reactions', 'Balance', 'ShotPower',\n",
       "       'Jumping', 'Stamina', 'Strength', 'LongShots', 'Aggression',\n",
       "       'Interceptions', 'Positioning', 'Vision', 'Penalties', 'Composure',\n",
       "       'Marking', 'StandingTackle', 'SlidingTackle', 'GKDiving', 'GKHandling',\n",
       "       'GKKicking', 'GKPositioning', 'GKReflexes', 'Attacking', 'Skill',\n",
       "       'Movement', 'Power', 'Mentality', 'Defending', 'Goalkeeping',\n",
       "       'AllStats', 'AttackingWorkRate', 'DefensiveWorkRate', 'Position_CAM',\n",
       "       'Position_CB', 'Position_CDM', 'Position_CF', 'Position_CM',\n",
       "       'Position_GK', 'Position_LAM', 'Position_LB', 'Position_LCB',\n",
       "       'Position_LCM', 'Position_LDM', 'Position_LF', 'Position_LM',\n",
       "       'Position_LS', 'Position_LW', 'Position_LWB', 'Position_RAM',\n",
       "       'Position_RB', 'Position_RCB', 'Position_RCM', 'Position_RDM',\n",
       "       'Position_RF', 'Position_RM', 'Position_RS', 'Position_RW',\n",
       "       'Position_RWB', 'Position_ST'],\n",
       "      dtype='object')"
      ]
     },
     "execution_count": 2,
     "metadata": {},
     "output_type": "execute_result"
    }
   ],
   "source": [
    "df_encoded=pd.read_csv(\"updated_player_data.csv\")\n",
    "df_encoded.columns"
   ]
  },
  {
   "cell_type": "code",
   "execution_count": 3,
   "metadata": {
    "colab": {
     "base_uri": "https://localhost:8080/",
     "height": 258
    },
    "executionInfo": {
     "elapsed": 2105,
     "status": "ok",
     "timestamp": 1676475605144,
     "user": {
      "displayName": "Sean Morey",
      "userId": "09649124933964159109"
     },
     "user_tz": 360
    },
    "id": "fCo-4G1zumj8",
    "outputId": "5e5f745d-3aba-4b54-8e38-0b646a99c191"
   },
   "outputs": [],
   "source": [
    "X=df_encoded[['Age', 'PreferredFoot',\n",
    "       'InternationalReputation', 'WeakFoot', 'SkillMoves', \n",
    "       'BodyType', 'Height', 'Weight', 'Crossing', 'Finishing',\n",
    "       'HeadingAccuracy', 'ShortPassing', 'Volleys', 'Dribbling', 'Curve',\n",
    "       'FKAccuracy', 'LongPassing', 'BallControl', 'Acceleration',\n",
    "       'SprintSpeed', 'Agility', 'Reactions', 'Balance', 'ShotPower',\n",
    "       'Jumping', 'Stamina', 'Strength', 'LongShots', 'Aggression',\n",
    "       'Interceptions', 'Positioning', 'Vision', 'Penalties', 'Composure',\n",
    "       'Marking', 'StandingTackle', 'SlidingTackle', 'GKDiving', 'GKHandling',\n",
    "       'GKKicking', 'GKPositioning', 'GKReflexes', 'AttackingWorkRate', 'DefensiveWorkRate', 'Position_CAM',\n",
    "       'Position_CB', 'Position_CDM', 'Position_CF', 'Position_CM',\n",
    "       'Position_GK', 'Position_LAM', 'Position_LB', 'Position_LCB',\n",
    "       'Position_LCM', 'Position_LDM', 'Position_LF', 'Position_LM',\n",
    "       'Position_LS', 'Position_LW', 'Position_LWB', 'Position_RAM',\n",
    "       'Position_RB', 'Position_RCB', 'Position_RCM', 'Position_RDM',\n",
    "       'Position_RF', 'Position_RM', 'Position_RS', 'Position_RW',\n",
    "       'Position_RWB', 'Position_ST']]\n",
    "y=df_encoded['Wage']\n",
    "# X=df_encoded[['Age','Height', 'Weight', 'Attacking', 'Skill','Movement', 'Power', 'Mentality', 'Defending', 'Goalkeeping',\n",
    "#        'Position_CAM', 'Position_CB', 'Position_CDM', 'Position_CF', 'Position_CM',\n",
    "#        'Position_GK', 'Position_LAM', 'Position_LB', 'Position_LCB',\n",
    "#        'Position_LCM', 'Position_LDM', 'Position_LF', 'Position_LM',\n",
    "#        'Position_LS', 'Position_LW', 'Position_LWB', 'Position_RAM',\n",
    "#        'Position_RB', 'Position_RCB', 'Position_RCM', 'Position_RDM',\n",
    "#        'Position_RF', 'Position_RM', 'Position_RS', 'Position_RW',\n",
    "#        'Position_RWB', 'Position_ST'\n",
    "#        ]]"
   ]
  },
  {
   "cell_type": "code",
   "execution_count": 4,
   "metadata": {
    "executionInfo": {
     "elapsed": 2,
     "status": "ok",
     "timestamp": 1676475605355,
     "user": {
      "displayName": "Sean Morey",
      "userId": "09649124933964159109"
     },
     "user_tz": 360
    },
    "id": "4K8kECfHumj8"
   },
   "outputs": [
    {
     "name": "stderr",
     "output_type": "stream",
     "text": [
      "c:\\Users\\mkori\\anaconda3\\envs\\dev\\lib\\site-packages\\keras\\src\\layers\\core\\dense.py:87: UserWarning: Do not pass an `input_shape`/`input_dim` argument to a layer. When using Sequential models, prefer using an `Input(shape)` object as the first layer in the model instead.\n",
      "  super().__init__(activity_regularizer=activity_regularizer, **kwargs)\n"
     ]
    }
   ],
   "source": [
    "# Use sklearn to split dataset\n",
    "X_train, X_test, y_train, y_test = train_test_split(X, y, random_state=78)\n",
    "\n",
    "# Create scaler instance\n",
    "X_scaler = StandardScaler()\n",
    "\n",
    "# Fit the scaler\n",
    "X_scaler.fit(X_train)\n",
    "\n",
    "# Scale the data\n",
    "X_train_scaled = X_scaler.transform(X_train)\n",
    "X_test_scaled = X_scaler.transform(X_test)\n",
    "\n",
    "# Create the Keras Sequential model\n",
    "nn_model = tf.keras.models.Sequential()\n",
    "\n",
    "# Add the input layers\n",
    "nn_model.add(tf.keras.layers.Dense(units=128, activation=\"relu\", input_dim=X_train_scaled.shape[1]))\n",
    "\n",
    "# Additional hidden layers\n",
    "nn_model.add(tf.keras.layers.Dense(units=64, activation=\"relu\"))\n",
    "nn_model.add(tf.keras.layers.Dense(units=32, activation=\"relu\"))\n",
    "nn_model.add(tf.keras.layers.Dense(units=16, activation=\"relu\"))\n",
    "\n",
    "# Add the output layer (no activation for regression)\n",
    "nn_model.add(tf.keras.layers.Dense(units=1))  \n",
    "\n",
    "# Compile the model with Mean Squared Error for regression\n",
    "optimizer = Adam(learning_rate=0.01)  \n",
    "nn_model.compile(loss=\"mean_squared_error\", optimizer=optimizer, metrics=[\"mae\"])"
   ]
  },
  {
   "cell_type": "code",
   "execution_count": 5,
   "metadata": {
    "colab": {
     "base_uri": "https://localhost:8080/"
    },
    "executionInfo": {
     "elapsed": 5,
     "status": "ok",
     "timestamp": 1676475606322,
     "user": {
      "displayName": "Sean Morey",
      "userId": "09649124933964159109"
     },
     "user_tz": 360
    },
    "id": "QchORD7Xumj9",
    "outputId": "c4584747-12eb-4636-b52f-e12e6884481b"
   },
   "outputs": [
    {
     "data": {
      "text/html": [
       "<pre style=\"white-space:pre;overflow-x:auto;line-height:normal;font-family:Menlo,'DejaVu Sans Mono',consolas,'Courier New',monospace\"><span style=\"font-weight: bold\">Model: \"sequential\"</span>\n",
       "</pre>\n"
      ],
      "text/plain": [
       "\u001b[1mModel: \"sequential\"\u001b[0m\n"
      ]
     },
     "metadata": {},
     "output_type": "display_data"
    },
    {
     "data": {
      "text/html": [
       "<pre style=\"white-space:pre;overflow-x:auto;line-height:normal;font-family:Menlo,'DejaVu Sans Mono',consolas,'Courier New',monospace\">┏━━━━━━━━━━━━━━━━━━━━━━━━━━━━━━━━━┳━━━━━━━━━━━━━━━━━━━━━━━━┳━━━━━━━━━━━━━━━┓\n",
       "┃<span style=\"font-weight: bold\"> Layer (type)                    </span>┃<span style=\"font-weight: bold\"> Output Shape           </span>┃<span style=\"font-weight: bold\">       Param # </span>┃\n",
       "┡━━━━━━━━━━━━━━━━━━━━━━━━━━━━━━━━━╇━━━━━━━━━━━━━━━━━━━━━━━━╇━━━━━━━━━━━━━━━┩\n",
       "│ dense (<span style=\"color: #0087ff; text-decoration-color: #0087ff\">Dense</span>)                   │ (<span style=\"color: #00d7ff; text-decoration-color: #00d7ff\">None</span>, <span style=\"color: #00af00; text-decoration-color: #00af00\">128</span>)            │         <span style=\"color: #00af00; text-decoration-color: #00af00\">9,216</span> │\n",
       "├─────────────────────────────────┼────────────────────────┼───────────────┤\n",
       "│ dense_1 (<span style=\"color: #0087ff; text-decoration-color: #0087ff\">Dense</span>)                 │ (<span style=\"color: #00d7ff; text-decoration-color: #00d7ff\">None</span>, <span style=\"color: #00af00; text-decoration-color: #00af00\">64</span>)             │         <span style=\"color: #00af00; text-decoration-color: #00af00\">8,256</span> │\n",
       "├─────────────────────────────────┼────────────────────────┼───────────────┤\n",
       "│ dense_2 (<span style=\"color: #0087ff; text-decoration-color: #0087ff\">Dense</span>)                 │ (<span style=\"color: #00d7ff; text-decoration-color: #00d7ff\">None</span>, <span style=\"color: #00af00; text-decoration-color: #00af00\">32</span>)             │         <span style=\"color: #00af00; text-decoration-color: #00af00\">2,080</span> │\n",
       "├─────────────────────────────────┼────────────────────────┼───────────────┤\n",
       "│ dense_3 (<span style=\"color: #0087ff; text-decoration-color: #0087ff\">Dense</span>)                 │ (<span style=\"color: #00d7ff; text-decoration-color: #00d7ff\">None</span>, <span style=\"color: #00af00; text-decoration-color: #00af00\">16</span>)             │           <span style=\"color: #00af00; text-decoration-color: #00af00\">528</span> │\n",
       "├─────────────────────────────────┼────────────────────────┼───────────────┤\n",
       "│ dense_4 (<span style=\"color: #0087ff; text-decoration-color: #0087ff\">Dense</span>)                 │ (<span style=\"color: #00d7ff; text-decoration-color: #00d7ff\">None</span>, <span style=\"color: #00af00; text-decoration-color: #00af00\">1</span>)              │            <span style=\"color: #00af00; text-decoration-color: #00af00\">17</span> │\n",
       "└─────────────────────────────────┴────────────────────────┴───────────────┘\n",
       "</pre>\n"
      ],
      "text/plain": [
       "┏━━━━━━━━━━━━━━━━━━━━━━━━━━━━━━━━━┳━━━━━━━━━━━━━━━━━━━━━━━━┳━━━━━━━━━━━━━━━┓\n",
       "┃\u001b[1m \u001b[0m\u001b[1mLayer (type)                   \u001b[0m\u001b[1m \u001b[0m┃\u001b[1m \u001b[0m\u001b[1mOutput Shape          \u001b[0m\u001b[1m \u001b[0m┃\u001b[1m \u001b[0m\u001b[1m      Param #\u001b[0m\u001b[1m \u001b[0m┃\n",
       "┡━━━━━━━━━━━━━━━━━━━━━━━━━━━━━━━━━╇━━━━━━━━━━━━━━━━━━━━━━━━╇━━━━━━━━━━━━━━━┩\n",
       "│ dense (\u001b[38;5;33mDense\u001b[0m)                   │ (\u001b[38;5;45mNone\u001b[0m, \u001b[38;5;34m128\u001b[0m)            │         \u001b[38;5;34m9,216\u001b[0m │\n",
       "├─────────────────────────────────┼────────────────────────┼───────────────┤\n",
       "│ dense_1 (\u001b[38;5;33mDense\u001b[0m)                 │ (\u001b[38;5;45mNone\u001b[0m, \u001b[38;5;34m64\u001b[0m)             │         \u001b[38;5;34m8,256\u001b[0m │\n",
       "├─────────────────────────────────┼────────────────────────┼───────────────┤\n",
       "│ dense_2 (\u001b[38;5;33mDense\u001b[0m)                 │ (\u001b[38;5;45mNone\u001b[0m, \u001b[38;5;34m32\u001b[0m)             │         \u001b[38;5;34m2,080\u001b[0m │\n",
       "├─────────────────────────────────┼────────────────────────┼───────────────┤\n",
       "│ dense_3 (\u001b[38;5;33mDense\u001b[0m)                 │ (\u001b[38;5;45mNone\u001b[0m, \u001b[38;5;34m16\u001b[0m)             │           \u001b[38;5;34m528\u001b[0m │\n",
       "├─────────────────────────────────┼────────────────────────┼───────────────┤\n",
       "│ dense_4 (\u001b[38;5;33mDense\u001b[0m)                 │ (\u001b[38;5;45mNone\u001b[0m, \u001b[38;5;34m1\u001b[0m)              │            \u001b[38;5;34m17\u001b[0m │\n",
       "└─────────────────────────────────┴────────────────────────┴───────────────┘\n"
      ]
     },
     "metadata": {},
     "output_type": "display_data"
    },
    {
     "data": {
      "text/html": [
       "<pre style=\"white-space:pre;overflow-x:auto;line-height:normal;font-family:Menlo,'DejaVu Sans Mono',consolas,'Courier New',monospace\"><span style=\"font-weight: bold\"> Total params: </span><span style=\"color: #00af00; text-decoration-color: #00af00\">20,097</span> (78.50 KB)\n",
       "</pre>\n"
      ],
      "text/plain": [
       "\u001b[1m Total params: \u001b[0m\u001b[38;5;34m20,097\u001b[0m (78.50 KB)\n"
      ]
     },
     "metadata": {},
     "output_type": "display_data"
    },
    {
     "data": {
      "text/html": [
       "<pre style=\"white-space:pre;overflow-x:auto;line-height:normal;font-family:Menlo,'DejaVu Sans Mono',consolas,'Courier New',monospace\"><span style=\"font-weight: bold\"> Trainable params: </span><span style=\"color: #00af00; text-decoration-color: #00af00\">20,097</span> (78.50 KB)\n",
       "</pre>\n"
      ],
      "text/plain": [
       "\u001b[1m Trainable params: \u001b[0m\u001b[38;5;34m20,097\u001b[0m (78.50 KB)\n"
      ]
     },
     "metadata": {},
     "output_type": "display_data"
    },
    {
     "data": {
      "text/html": [
       "<pre style=\"white-space:pre;overflow-x:auto;line-height:normal;font-family:Menlo,'DejaVu Sans Mono',consolas,'Courier New',monospace\"><span style=\"font-weight: bold\"> Non-trainable params: </span><span style=\"color: #00af00; text-decoration-color: #00af00\">0</span> (0.00 B)\n",
       "</pre>\n"
      ],
      "text/plain": [
       "\u001b[1m Non-trainable params: \u001b[0m\u001b[38;5;34m0\u001b[0m (0.00 B)\n"
      ]
     },
     "metadata": {},
     "output_type": "display_data"
    }
   ],
   "source": [
    "# Check the structure of the Sequential model\n",
    "nn_model.summary()"
   ]
  },
  {
   "cell_type": "code",
   "execution_count": 12,
   "metadata": {
    "colab": {
     "base_uri": "https://localhost:8080/"
    },
    "executionInfo": {
     "elapsed": 44367,
     "status": "ok",
     "timestamp": 1676475650686,
     "user": {
      "displayName": "Sean Morey",
      "userId": "09649124933964159109"
     },
     "user_tz": 360
    },
    "id": "SwVsMHquumj9",
    "outputId": "c72dacf3-bb9d-42d5-d533-1848ddbebd0f"
   },
   "outputs": [
    {
     "name": "stdout",
     "output_type": "stream",
     "text": [
      "Epoch 1/20\n",
      "\u001b[1m420/420\u001b[0m \u001b[32m━━━━━━━━━━━━━━━━━━━━\u001b[0m\u001b[37m\u001b[0m \u001b[1m5s\u001b[0m 12ms/step - loss: 0.3107 - mae: 0.2557\n",
      "Epoch 2/20\n",
      "\u001b[1m420/420\u001b[0m \u001b[32m━━━━━━━━━━━━━━━━━━━━\u001b[0m\u001b[37m\u001b[0m \u001b[1m7s\u001b[0m 15ms/step - loss: 0.3596 - mae: 0.2575\n",
      "Epoch 3/20\n",
      "\u001b[1m420/420\u001b[0m \u001b[32m━━━━━━━━━━━━━━━━━━━━\u001b[0m\u001b[37m\u001b[0m \u001b[1m18s\u001b[0m 33ms/step - loss: 0.2784 - mae: 0.2514\n",
      "Epoch 4/20\n",
      "\u001b[1m420/420\u001b[0m \u001b[32m━━━━━━━━━━━━━━━━━━━━\u001b[0m\u001b[37m\u001b[0m \u001b[1m8s\u001b[0m 18ms/step - loss: 0.3007 - mae: 0.2585\n",
      "Epoch 5/20\n",
      "\u001b[1m420/420\u001b[0m \u001b[32m━━━━━━━━━━━━━━━━━━━━\u001b[0m\u001b[37m\u001b[0m \u001b[1m6s\u001b[0m 14ms/step - loss: 0.3386 - mae: 0.2592\n",
      "Epoch 6/20\n",
      "\u001b[1m420/420\u001b[0m \u001b[32m━━━━━━━━━━━━━━━━━━━━\u001b[0m\u001b[37m\u001b[0m \u001b[1m5s\u001b[0m 11ms/step - loss: 0.2882 - mae: 0.2564\n",
      "Epoch 7/20\n",
      "\u001b[1m420/420\u001b[0m \u001b[32m━━━━━━━━━━━━━━━━━━━━\u001b[0m\u001b[37m\u001b[0m \u001b[1m5s\u001b[0m 11ms/step - loss: 0.2938 - mae: 0.2633\n",
      "Epoch 8/20\n",
      "\u001b[1m420/420\u001b[0m \u001b[32m━━━━━━━━━━━━━━━━━━━━\u001b[0m\u001b[37m\u001b[0m \u001b[1m5s\u001b[0m 12ms/step - loss: 0.3991 - mae: 0.2852\n",
      "Epoch 9/20\n",
      "\u001b[1m420/420\u001b[0m \u001b[32m━━━━━━━━━━━━━━━━━━━━\u001b[0m\u001b[37m\u001b[0m \u001b[1m5s\u001b[0m 10ms/step - loss: 0.3442 - mae: 0.2705\n",
      "Epoch 10/20\n",
      "\u001b[1m420/420\u001b[0m \u001b[32m━━━━━━━━━━━━━━━━━━━━\u001b[0m\u001b[37m\u001b[0m \u001b[1m6s\u001b[0m 14ms/step - loss: 0.3468 - mae: 0.2895\n",
      "Epoch 11/20\n",
      "\u001b[1m420/420\u001b[0m \u001b[32m━━━━━━━━━━━━━━━━━━━━\u001b[0m\u001b[37m\u001b[0m \u001b[1m8s\u001b[0m 18ms/step - loss: 0.3180 - mae: 0.2591\n",
      "Epoch 12/20\n",
      "\u001b[1m420/420\u001b[0m \u001b[32m━━━━━━━━━━━━━━━━━━━━\u001b[0m\u001b[37m\u001b[0m \u001b[1m7s\u001b[0m 16ms/step - loss: 0.5118 - mae: 0.3020\n",
      "Epoch 13/20\n",
      "\u001b[1m420/420\u001b[0m \u001b[32m━━━━━━━━━━━━━━━━━━━━\u001b[0m\u001b[37m\u001b[0m \u001b[1m5s\u001b[0m 12ms/step - loss: 0.2915 - mae: 0.2738\n",
      "Epoch 14/20\n",
      "\u001b[1m420/420\u001b[0m \u001b[32m━━━━━━━━━━━━━━━━━━━━\u001b[0m\u001b[37m\u001b[0m \u001b[1m5s\u001b[0m 11ms/step - loss: 0.3590 - mae: 0.2771\n",
      "Epoch 15/20\n",
      "\u001b[1m420/420\u001b[0m \u001b[32m━━━━━━━━━━━━━━━━━━━━\u001b[0m\u001b[37m\u001b[0m \u001b[1m5s\u001b[0m 11ms/step - loss: 0.2577 - mae: 0.2652\n",
      "Epoch 16/20\n",
      "\u001b[1m420/420\u001b[0m \u001b[32m━━━━━━━━━━━━━━━━━━━━\u001b[0m\u001b[37m\u001b[0m \u001b[1m5s\u001b[0m 11ms/step - loss: 0.3709 - mae: 0.2696\n",
      "Epoch 17/20\n",
      "\u001b[1m420/420\u001b[0m \u001b[32m━━━━━━━━━━━━━━━━━━━━\u001b[0m\u001b[37m\u001b[0m \u001b[1m5s\u001b[0m 11ms/step - loss: 0.2595 - mae: 0.2471\n",
      "Epoch 18/20\n",
      "\u001b[1m420/420\u001b[0m \u001b[32m━━━━━━━━━━━━━━━━━━━━\u001b[0m\u001b[37m\u001b[0m \u001b[1m6s\u001b[0m 13ms/step - loss: 0.3370 - mae: 0.2706\n",
      "Epoch 19/20\n",
      "\u001b[1m420/420\u001b[0m \u001b[32m━━━━━━━━━━━━━━━━━━━━\u001b[0m\u001b[37m\u001b[0m \u001b[1m5s\u001b[0m 12ms/step - loss: 0.2755 - mae: 0.2772\n",
      "Epoch 20/20\n",
      "\u001b[1m420/420\u001b[0m \u001b[32m━━━━━━━━━━━━━━━━━━━━\u001b[0m\u001b[37m\u001b[0m \u001b[1m5s\u001b[0m 12ms/step - loss: 0.3636 - mae: 0.2704\n"
     ]
    }
   ],
   "source": [
    "# Scale the target variable y_train and y_test\n",
    "y_scaler = StandardScaler()\n",
    "\n",
    "# Convert y_train and y_test to numpy arrays and reshape them\n",
    "y_train_scaled = y_scaler.fit_transform(y_train.to_numpy().reshape(-1, 1))  \n",
    "y_test_scaled = y_scaler.transform(y_test.to_numpy().reshape(-1, 1))  \n",
    "\n",
    "# Fit the model to the training data \n",
    "fit_model = nn_model.fit(X_train_scaled, y_train_scaled, epochs=20, batch_size=32)"
   ]
  },
  {
   "cell_type": "code",
   "execution_count": 7,
   "metadata": {
    "colab": {
     "base_uri": "https://localhost:8080/"
    },
    "executionInfo": {
     "elapsed": 382,
     "status": "ok",
     "timestamp": 1676475651065,
     "user": {
      "displayName": "Sean Morey",
      "userId": "09649124933964159109"
     },
     "user_tz": 360
    },
    "id": "6lw_AdUNumj9",
    "outputId": "565206ee-9a3c-4b1c-b229-bed56767eb46"
   },
   "outputs": [
    {
     "name": "stdout",
     "output_type": "stream",
     "text": [
      "140/140 - 3s - 18ms/step - loss: 0.3646 - mae: 0.2453\n",
      "Loss: 0.3646034300327301, Mean Absolute Error: 0.24526293575763702\n"
     ]
    }
   ],
   "source": [
    "# Evaluate the model using the test data\n",
    "model_loss, model_mae = nn_model.evaluate(X_test_scaled, y_test_scaled, verbose=2)\n",
    "print(f\"Loss: {model_loss}, Mean Absolute Error: {model_mae}\")"
   ]
  },
  {
   "cell_type": "code",
   "execution_count": 8,
   "metadata": {},
   "outputs": [
    {
     "name": "stdout",
     "output_type": "stream",
     "text": [
      "Mean of scaled X_train: [-3.66428126e-16 -7.66696656e-18 -7.66696656e-17  1.77397744e-16\n",
      " -2.49572981e-16  1.00199322e-16 -7.29683714e-17  4.58960481e-16\n",
      " -6.87383209e-17  1.53868088e-16  1.34304104e-16  5.92207073e-17\n",
      " -1.14211364e-16 -1.37476642e-16  2.85528410e-17 -5.49906567e-17\n",
      " -1.96697349e-16  2.96103536e-17 -3.67485639e-16 -3.70393798e-16\n",
      "  9.70267838e-17 -2.74953284e-16  1.29545297e-16  8.46010104e-18\n",
      " -2.53406464e-16  6.76808083e-17 -4.91743373e-16  1.76075853e-16\n",
      " -4.23005052e-18  4.23005052e-18  1.29545297e-16  6.13357325e-17\n",
      " -3.17253789e-18 -1.45936743e-16 -8.14284725e-17  1.27959028e-16\n",
      "  1.25315247e-16  1.05751263e-18  1.58626894e-18 -4.23005052e-17\n",
      " -3.91279673e-17 -7.82559346e-17 -7.93134472e-17  1.74489584e-16\n",
      "  2.16790089e-17  5.20824970e-17 -9.30611114e-17 -1.08395045e-17\n",
      "  9.78199182e-17 -2.11502526e-17  4.23005052e-18 -1.18970171e-17\n",
      " -3.09322444e-17 -3.17253789e-18 -1.05751263e-17  2.06214963e-17\n",
      " -1.90352273e-17 -7.00602117e-17  5.15537407e-17  2.24721434e-18\n",
      "  1.58626894e-17 -7.93134472e-18 -2.64378157e-17 -1.48051768e-17\n",
      "  2.11502526e-17 -1.79777147e-17  6.34507578e-18  4.70593120e-17\n",
      "  1.90352273e-17  2.11502526e-17 -2.49837359e-17]\n",
      "Std of scaled X_train: [1. 1. 1. 1. 1. 1. 1. 1. 1. 1. 1. 1. 1. 1. 1. 1. 1. 1. 1. 1. 1. 1. 1. 1.\n",
      " 1. 1. 1. 1. 1. 1. 1. 1. 1. 1. 1. 1. 1. 1. 1. 1. 1. 1. 1. 1. 1. 1. 1. 1.\n",
      " 1. 1. 1. 1. 1. 1. 1. 1. 1. 1. 1. 1. 1. 1. 1. 1. 1. 1. 1. 1. 1. 1. 1.]\n"
     ]
    }
   ],
   "source": [
    "print(\"Mean of scaled X_train:\", X_train_scaled.mean(axis=0))\n",
    "print(\"Std of scaled X_train:\", X_train_scaled.std(axis=0))"
   ]
  },
  {
   "cell_type": "code",
   "execution_count": 9,
   "metadata": {},
   "outputs": [
    {
     "name": "stdout",
     "output_type": "stream",
     "text": [
      "y_train range: 1000.0, 565000.0\n",
      "y_test range: 1000.0, 355000.0\n"
     ]
    }
   ],
   "source": [
    "print(f\"y_train range: {np.min(y_train)}, {np.max(y_train)}\")\n",
    "print(f\"y_test range: {np.min(y_test)}, {np.max(y_test)}\")"
   ]
  },
  {
   "cell_type": "code",
   "execution_count": 10,
   "metadata": {},
   "outputs": [
    {
     "name": "stdout",
     "output_type": "stream",
     "text": [
      "Mean of y_train after scaling: -2.009273996047314e-17\n",
      "Standard deviation of y_train after scaling: 1.0\n"
     ]
    }
   ],
   "source": [
    "# Check the mean and standard deviation for the target\n",
    "print(\"Mean of y_train after scaling:\", y_train_scaled.mean())\n",
    "print(\"Standard deviation of y_train after scaling:\", y_train_scaled.std())"
   ]
  },
  {
   "cell_type": "code",
   "execution_count": 11,
   "metadata": {
    "colab": {
     "base_uri": "https://localhost:8080/",
     "height": 265
    },
    "executionInfo": {
     "elapsed": 111,
     "status": "ok",
     "timestamp": 1676475651335,
     "user": {
      "displayName": "Sean Morey",
      "userId": "09649124933964159109"
     },
     "user_tz": 360
    },
    "id": "fP4LkO6mumj9",
    "outputId": "3c9a3c5d-ae62-41a2-bed7-2b460684e9b3"
   },
   "outputs": [
    {
     "data": {
      "image/png": "[encoded data removed]",
      "text/plain": [
       "<Figure size 640x480 with 1 Axes>"
      ]
     },
     "metadata": {},
     "output_type": "display_data"
    }
   ],
   "source": [
    "# Optionally plot the loss\n",
    "history_df = pd.DataFrame(fit_model.history)\n",
    "history_df.plot(y=\"loss\")\n",
    "plt.show()"
   ]
  },
  {
   "cell_type": "code",
   "execution_count": null,
   "metadata": {},
   "outputs": [],
   "source": []
  }
 ],
 "metadata": {
  "colab": {
   "provenance": []
  },
  "kernelspec": {
   "display_name": "dev",
   "language": "python",
   "name": "python3"
  },
  "language_info": {
   "codemirror_mode": {
    "name": "ipython",
    "version": 3
   },
   "file_extension": ".py",
   "mimetype": "text/x-python",
   "name": "python",
   "nbconvert_exporter": "python",
   "pygments_lexer": "ipython3",
   "version": "3.10.14"
  }
 },
 "nbformat": 4,
 "nbformat_minor": 0
}
